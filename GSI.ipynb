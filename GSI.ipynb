{
 "cells": [
  {
   "cell_type": "markdown",
   "metadata": {},
   "source": [
    "# Conference on: Geomteric Science of Information - 2023\n",
    "---"
   ]
  },
  {
   "cell_type": "markdown",
   "metadata": {},
   "source": [
    "#### Imports & Seed Setting"
   ]
  },
  {
   "cell_type": "code",
   "execution_count": 21,
   "metadata": {},
   "outputs": [],
   "source": [
    "import math\n",
    "import numpy as np\n",
    "import pandas as pd\n",
    "from scipy.linalg import expm, logm, sqrtm, sinm, cosm\n",
    "from scipy.stats import multivariate_normal\n",
    "\n",
    "import matplotlib.pyplot as plt\n",
    "%matplotlib inline\n",
    "import seaborn as sns\n",
    "sns.set_theme(style=\"darkgrid\")\n",
    "from mpl_toolkits.mplot3d import Axes3D\n",
    "\n",
    "import random\n",
    "random.seed(2023)\n",
    "np.random.seed(2023)\n",
    "\n",
    "import warnings\n",
    "warnings.filterwarnings(\"ignore\")"
   ]
  },
  {
   "cell_type": "markdown",
   "metadata": {},
   "source": [
    "#### Hyperparamters"
   ]
  },
  {
   "cell_type": "code",
   "execution_count": 2,
   "metadata": {},
   "outputs": [],
   "source": [
    "D = 2\n",
    "dt = .01\n",
    "N = 10**3\n",
    "\n",
    "N_samples_sim = 10**2"
   ]
  },
  {
   "cell_type": "markdown",
   "metadata": {},
   "source": [
    "### Dynamics\n",
    "\n",
    "#### Drift\n",
    "$$\n",
    "\\mu_t = A(\\cos(t))_{i=1}^D\n",
    "$$"
   ]
  },
  {
   "cell_type": "code",
   "execution_count": 3,
   "metadata": {},
   "outputs": [],
   "source": [
    "# Random Linear Mixing\n",
    "A = np.random.normal(loc=0,scale = 1, size = np.array([D,D]))\n",
    "A = expm(A) \n",
    "\n",
    "# Drift\n",
    "def drift(t):\n",
    "    x_out = np.cos(t)*np.ones(D)\n",
    "    x_out = A.dot(x_out)\n",
    "    return x_out"
   ]
  },
  {
   "cell_type": "markdown",
   "metadata": {},
   "source": [
    "### Diffusion/Volatility\n",
    "$$\n",
    "\\sigma_t = (\\cos\\bullet (t(1,\\dots,D^2)) + I_D),\n",
    "$$\n",
    "where $\\bullet$ denotes component-wise composition."
   ]
  },
  {
   "cell_type": "code",
   "execution_count": 4,
   "metadata": {},
   "outputs": [],
   "source": [
    "# Define Frequences from 1 to D^2; on which the sine function will be applies x time\n",
    "Frequencies = np.linspace(start = 1, stop = (D**2), num=(D**2))\n",
    "Frequencies = Frequencies.reshape((D,D))\n",
    "\n",
    "# Diffusion\n",
    "def diffusion(t):\n",
    "    x_out = np.cos(t*Frequencies)\n",
    "    x_out = expm(x_out)\n",
    "    x_out = x_out + np.eye(D)\n",
    "    return x_out"
   ]
  },
  {
   "cell_type": "markdown",
   "metadata": {},
   "source": [
    "### Simulate Several Ito Processes and Their Empirical Laws"
   ]
  },
  {
   "cell_type": "code",
   "execution_count": 5,
   "metadata": {},
   "outputs": [],
   "source": [
    "# Tranjectory Arrary\n",
    "Means_history = np.zeros(np.array([D,N]))\n",
    "Cov_history = np.zeros(np.array([D**2,N]))\n",
    "\n",
    "# Tranjectory Arrary\n",
    "TS_history = np.zeros(np.array([D,N+1]))\n",
    "\n",
    "# Write Time Axis\n",
    "time_axis = np.linspace(start=0,stop=1,num=(1+N))\n",
    "\n",
    "# Intialize State\n",
    "initial_state = np.zeros(D)\n",
    "TS_history[:, 0] = initial_state\n",
    "\n",
    "# Initialize Loop\n",
    "current_state  = initial_state\n",
    "# Loop: Euler Scheme\n",
    "for n in range(N):\n",
    "    # Identify timestep\n",
    "    t = n*dt\n",
    "    # Evaluate Drift and Diffusion\n",
    "    Drift_t = drift(t)\n",
    "    Diffusion_t = diffusion(t)\n",
    "\n",
    "    # Generate Noise\n",
    "    noise = np.random.normal(loc=0,scale=np.sqrt(dt),size=D)\n",
    "\n",
    "    # Update Random Stae\n",
    "    current_state = current_state + Drift_t*dt + Diffusion_t.dot(noise)\n",
    "    \n",
    "    \n",
    "    #####################################################\n",
    "    ########   Update Distributional Estimates   ########\n",
    "    #####################################################\n",
    "    # Initialize Samples for Current State of SDE\n",
    "    Samples_Generated_internalloop = np.zeros(np.array([D,N_samples_sim]))\n",
    "    # Get Samples\n",
    "    for i in range(N_samples_sim):\n",
    "        # Generate Noise\n",
    "        resampling_noise = np.random.normal(loc=0,scale=np.sqrt(dt),size=D)\n",
    "        # Update Random State\n",
    "        resampling_current_state = current_state + Drift_t*dt + Diffusion_t.dot(resampling_noise)\n",
    "        # Generate Samples\n",
    "        Samples_Generated_internalloop[:,i] = resampling_current_state\n",
    "\n",
    "    # Compute Empirical Mean and Empirical Covariance (Fit Gaussian to Samples)\n",
    "    samples_mean = np.mean(Samples_Generated_internalloop.T, axis=0)\n",
    "    samples_cov = np.cov(Samples_Generated_internalloop.T, rowvar=0)\n",
    "\n",
    "    # Update Record\n",
    "    Means_history[:, n] = samples_mean\n",
    "    Cov_history[:, n] = logm(samples_cov).reshape(-1,)\n",
    "    #####################################################\n",
    "    ######   Update Distributional Estimates - END   ####\n",
    "    #####################################################\n",
    "\n",
    "    TS_history[:, (1+n)] = current_state\n",
    "    \n",
    "## Write Input Data\n",
    "input_data = np.vstack([TS_history, time_axis]).T\n",
    "input_data = np.delete(input_data, (0), axis = 0)\n",
    "output_data = np.vstack([Means_history, Cov_history]).T"
   ]
  },
  {
   "cell_type": "markdown",
   "metadata": {},
   "source": [
    "### Visualize Simulated Ito Process"
   ]
  },
  {
   "cell_type": "code",
   "execution_count": 6,
   "metadata": {},
   "outputs": [
    {
     "data": {
      "text/plain": [
       "[<matplotlib.lines.Line2D at 0x7f35bcff24f0>]"
      ]
     },
     "execution_count": 6,
     "metadata": {},
     "output_type": "execute_result"
    },
    {
     "data": {
      "image/png": "[encoded data removed]",
      "text/plain": [
       "<Figure size 1152x864 with 1 Axes>"
      ]
     },
     "metadata": {},
     "output_type": "display_data"
    }
   ],
   "source": [
    "fig, ax = plt.subplots(1, 1, figsize=(16, 12))\n",
    "ax.plot(time_axis, TS_history[1,:], lw=2)"
   ]
  },
  {
   "cell_type": "markdown",
   "metadata": {},
   "source": [
    "---"
   ]
  },
  {
   "cell_type": "markdown",
   "metadata": {},
   "source": [
    "---"
   ]
  },
  {
   "cell_type": "markdown",
   "metadata": {},
   "source": [
    "## Random Neural Network Regression"
   ]
  },
  {
   "cell_type": "code",
   "execution_count": 7,
   "metadata": {},
   "outputs": [],
   "source": [
    "from sklearn.linear_model import LinearRegression"
   ]
  },
  {
   "cell_type": "markdown",
   "metadata": {},
   "source": [
    "#### Initialize Random Feature Map"
   ]
  },
  {
   "cell_type": "code",
   "execution_count": 8,
   "metadata": {},
   "outputs": [],
   "source": [
    "# Feature Space's Dimension\n",
    "dim_feature = 10**4\n",
    "\n",
    "# Radius for sampling random weights\n",
    "radius_weights = 0.25 # <- Should be positive\n",
    "# Radius for sampling random biases\n",
    "radius_bias = 1.1 # <- Should be bigger than 1\n",
    "\n",
    "dim_data = input_data.shape[1] # <- Number of covariates"
   ]
  },
  {
   "cell_type": "markdown",
   "metadata": {},
   "source": [
    "#### Helper Function: Uniform Sampler\n",
    "This next bit of code generate the random feature model of [Gonon et al. 2022 - \"Approximation Bounds for Random Neural Networks and Reservoir Systems\"](https://arxiv.org/abs/2002.05933)"
   ]
  },
  {
   "cell_type": "code",
   "execution_count": 9,
   "metadata": {},
   "outputs": [],
   "source": [
    "def random_ball(num_points = dim_feature, dimension=dim_data, radius=1):\n",
    "    from numpy import random, linalg\n",
    "    # First generate random directions by normalizing the length of a\n",
    "    # vector of random-normal values (these distribute evenly on ball).\n",
    "    random_directions = random.normal(size=(dimension,num_points))\n",
    "    random_directions /= linalg.norm(random_directions, axis=0)\n",
    "    # Second generate a random radius with probability proportional to\n",
    "    # the surface area of a ball with a given radius.\n",
    "    random_radii = random.random(num_points) ** (1/dimension)\n",
    "    # Return the list of random (direction & length) points.\n",
    "    return radius * (random_directions * random_radii).T\n",
    "\n",
    "# Generate the random parameters determining our feature map\n",
    "rand_weights = random_ball(radius=radius_weights)\n",
    "rand_biases = random_ball(dimension = 1,radius=radius_bias)\n",
    "\n",
    "\n",
    "\n",
    "def rand_feature_map(x_input):\n",
    "    x_int = np.array(x_input).transpose()\n",
    "    #Apply Random Weights\n",
    "    x_int = rand_weights.dot(x_int).transpose()\n",
    "    #Apply Random Bias\n",
    "    x_int = x_int + rand_biases.transpose()\n",
    "    #Apply ReLU activation function\n",
    "    x_int = np.maximum(x_int,0)\n",
    "    #Return Random Features\n",
    "    return x_int"
   ]
  },
  {
   "cell_type": "markdown",
   "metadata": {},
   "source": [
    "Convert inputs to random features"
   ]
  },
  {
   "cell_type": "code",
   "execution_count": 10,
   "metadata": {},
   "outputs": [],
   "source": [
    "#Apply to each data\n",
    "## first to the training dataset\n",
    "X_Rand_Features_train = rand_feature_map(input_data)\n",
    "X_Rand_Features_train = pd.DataFrame(X_Rand_Features_train)\n",
    "# ## then to the testing dataset\n",
    "# X_Rand_Features_test = rand_feature_map(X_test)\n",
    "# X_Rand_Features_test = pd.DataFrame(X_Rand_Features_test)"
   ]
  },
  {
   "cell_type": "markdown",
   "metadata": {},
   "source": [
    "#### Get linear regressor (i.e. train the (conditionally) non-random last affine layer of the neural network model)"
   ]
  },
  {
   "cell_type": "code",
   "execution_count": 11,
   "metadata": {},
   "outputs": [
    {
     "data": {
      "text/html": [
       "<style>#sk-container-id-1 {color: black;background-color: white;}#sk-container-id-1 pre{padding: 0;}#sk-container-id-1 div.sk-toggleable {background-color: white;}#sk-container-id-1 label.sk-toggleable__label {cursor: pointer;display: block;width: 100%;margin-bottom: 0;padding: 0.3em;box-sizing: border-box;text-align: center;}#sk-container-id-1 label.sk-toggleable__label-arrow:before {content: \"▸\";float: left;margin-right: 0.25em;color: #696969;}#sk-container-id-1 label.sk-toggleable__label-arrow:hover:before {color: black;}#sk-container-id-1 div.sk-estimator:hover label.sk-toggleable__label-arrow:before {color: black;}#sk-container-id-1 div.sk-toggleable__content {max-height: 0;max-width: 0;overflow: hidden;text-align: left;background-color: #f0f8ff;}#sk-container-id-1 div.sk-toggleable__content pre {margin: 0.2em;color: black;border-radius: 0.25em;background-color: #f0f8ff;}#sk-container-id-1 input.sk-toggleable__control:checked~div.sk-toggleable__content {max-height: 200px;max-width: 100%;overflow: auto;}#sk-container-id-1 input.sk-toggleable__control:checked~label.sk-toggleable__label-arrow:before {content: \"▾\";}#sk-container-id-1 div.sk-estimator input.sk-toggleable__control:checked~label.sk-toggleable__label {background-color: #d4ebff;}#sk-container-id-1 div.sk-label input.sk-toggleable__control:checked~label.sk-toggleable__label {background-color: #d4ebff;}#sk-container-id-1 input.sk-hidden--visually {border: 0;clip: rect(1px 1px 1px 1px);clip: rect(1px, 1px, 1px, 1px);height: 1px;margin: -1px;overflow: hidden;padding: 0;position: absolute;width: 1px;}#sk-container-id-1 div.sk-estimator {font-family: monospace;background-color: #f0f8ff;border: 1px dotted black;border-radius: 0.25em;box-sizing: border-box;margin-bottom: 0.5em;}#sk-container-id-1 div.sk-estimator:hover {background-color: #d4ebff;}#sk-container-id-1 div.sk-parallel-item::after {content: \"\";width: 100%;border-bottom: 1px solid gray;flex-grow: 1;}#sk-container-id-1 div.sk-label:hover label.sk-toggleable__label {background-color: #d4ebff;}#sk-container-id-1 div.sk-serial::before {content: \"\";position: absolute;border-left: 1px solid gray;box-sizing: border-box;top: 0;bottom: 0;left: 50%;z-index: 0;}#sk-container-id-1 div.sk-serial {display: flex;flex-direction: column;align-items: center;background-color: white;padding-right: 0.2em;padding-left: 0.2em;position: relative;}#sk-container-id-1 div.sk-item {position: relative;z-index: 1;}#sk-container-id-1 div.sk-parallel {display: flex;align-items: stretch;justify-content: center;background-color: white;position: relative;}#sk-container-id-1 div.sk-item::before, #sk-container-id-1 div.sk-parallel-item::before {content: \"\";position: absolute;border-left: 1px solid gray;box-sizing: border-box;top: 0;bottom: 0;left: 50%;z-index: -1;}#sk-container-id-1 div.sk-parallel-item {display: flex;flex-direction: column;z-index: 1;position: relative;background-color: white;}#sk-container-id-1 div.sk-parallel-item:first-child::after {align-self: flex-end;width: 50%;}#sk-container-id-1 div.sk-parallel-item:last-child::after {align-self: flex-start;width: 50%;}#sk-container-id-1 div.sk-parallel-item:only-child::after {width: 0;}#sk-container-id-1 div.sk-dashed-wrapped {border: 1px dashed gray;margin: 0 0.4em 0.5em 0.4em;box-sizing: border-box;padding-bottom: 0.4em;background-color: white;}#sk-container-id-1 div.sk-label label {font-family: monospace;font-weight: bold;display: inline-block;line-height: 1.2em;}#sk-container-id-1 div.sk-label-container {text-align: center;}#sk-container-id-1 div.sk-container {/* jupyter's `normalize.less` sets `[hidden] { display: none; }` but bootstrap.min.css set `[hidden] { display: none !important; }` so we also need the `!important` here to be able to override the default hidden behavior on the sphinx rendered scikit-learn.org. See: https://github.com/scikit-learn/scikit-learn/issues/21755 */display: inline-block !important;position: relative;}#sk-container-id-1 div.sk-text-repr-fallback {display: none;}</style><div id=\"sk-container-id-1\" class=\"sk-top-container\"><div class=\"sk-text-repr-fallback\"><pre>LinearRegression()</pre><b>In a Jupyter environment, please rerun this cell to show the HTML representation or trust the notebook. <br />On GitHub, the HTML representation is unable to render, please try loading this page with nbviewer.org.</b></div><div class=\"sk-container\" hidden><div class=\"sk-item\"><div class=\"sk-estimator sk-toggleable\"><input class=\"sk-toggleable__control sk-hidden--visually\" id=\"sk-estimator-id-1\" type=\"checkbox\" checked><label for=\"sk-estimator-id-1\" class=\"sk-toggleable__label sk-toggleable__label-arrow\">LinearRegression</label><div class=\"sk-toggleable__content\"><pre>LinearRegression()</pre></div></div></div></div></div>"
      ],
      "text/plain": [
       "LinearRegression()"
      ]
     },
     "execution_count": 11,
     "metadata": {},
     "output_type": "execute_result"
    }
   ],
   "source": [
    "model_linReg_randfeatures = LinearRegression()\n",
    "model_linReg_randfeatures.fit(X_Rand_Features_train, output_data)"
   ]
  },
  {
   "cell_type": "code",
   "execution_count": 12,
   "metadata": {},
   "outputs": [],
   "source": [
    "LinearizedPredictions = model_linReg_randfeatures.predict(X_Rand_Features_train)"
   ]
  },
  {
   "cell_type": "markdown",
   "metadata": {},
   "source": [
    "#### Predicted Means"
   ]
  },
  {
   "cell_type": "code",
   "execution_count": 13,
   "metadata": {},
   "outputs": [
    {
     "name": "stdout",
     "output_type": "stream",
     "text": [
      "Error Made When Predicting Means:0.0\n"
     ]
    }
   ],
   "source": [
    "Means_Predicted = LinearizedPredictions[:, range(D)]\n",
    "Errors_Means = np.sqrt(np.mean((Means_Predicted - Means_history.T)**2))\n",
    "print('Error Made When Predicting Means:'+str(round(Errors_Means,5)))"
   ]
  },
  {
   "cell_type": "markdown",
   "metadata": {},
   "source": [
    "#### Predicting Covariances\n",
    "Evaluation Metric\n",
    "$$\n",
    "        \\mathcal{W}_2^2\\big(\n",
    "            \\mathcal{N}_D(\\mu_1,\\Sigma_1)\n",
    "        ,\n",
    "            \\mathcal{N}_D(\\mu_2,\\Sigma_2)\n",
    "        \\big) \n",
    "    = \n",
    "        \\| \\mu_1 - \\mu_2 \\|^2 + \\operatorname{tr} \\big( \\Sigma_1 + \\Sigma_2 - 2 ( \\Sigma_2^{1/2} \\Sigma_1 \\Sigma_2^{1/2} )^{1/2} \\bigr)\n",
    "$$"
   ]
  },
  {
   "cell_type": "code",
   "execution_count": 25,
   "metadata": {},
   "outputs": [],
   "source": [
    "# Helper function implementing the covariance distance part of the 2-Wasserstein distance\n",
    "def W2_Cov_dist(Sigma_1,Sigma_2):\n",
    "    W2_out = Sigma_1 + Sigma_2 - 2*np.trace(sqrtm((np.matmul(np.matmul(sqrtm(Sigma_2),Sigma_1),sqrtm(Sigma_2)))))\n",
    "    return W2_out"
   ]
  },
  {
   "cell_type": "code",
   "execution_count": 18,
   "metadata": {},
   "outputs": [],
   "source": [
    "# Extract Covariances\n",
    "Covs_Predicted__Linearized = LinearizedPredictions[:, range(D,(D+(D**2)))]\n",
    "Cov_history=Cov_history.T # <- Collusion (R Style :P)"
   ]
  },
  {
   "cell_type": "code",
   "execution_count": 28,
   "metadata": {},
   "outputs": [
    {
     "name": "stdout",
     "output_type": "stream",
     "text": [
      "Error (Frobenius) Made When Predicting Means:0.0\n",
      "Error (2-Wasserstein_Covariance Part) Made When Predicting Means:0.0\n"
     ]
    }
   ],
   "source": [
    "#Initialize Error Tabulators\n",
    "\n",
    "cum_error_Frob = 0\n",
    "cum_error_W2 = 0\n",
    "\n",
    "# Computer Mean Errors for: Frobenius and Covariance part of 2-Wasserstein\n",
    "for j in range(N):\n",
    "    Predicted_Cov_loop = expm(Covs_Predicted__Linearized[j, :].reshape([D,D]))\n",
    "    Cov_history_target_loop = (Cov_history[j,:])\n",
    "    Cov_history_target_loop = expm(Cov_history_target_loop.reshape([D,D]))\n",
    "\n",
    "    cum_error_Frob = cum_error_Frob + np.sqrt(np.mean((Cov_history_target_loop - Predicted_Cov_loop)**2))\n",
    "    cum_error_W2 = cum_error_W2 + W2_Cov_dist(Predicted_Cov_loop,Cov_history_target_loop)\n",
    "# Normalize\n",
    "cum_error_Frob = cum_error_Frob/N\n",
    "\n",
    "print('Error (Frobenius) Made When Predicting Means:'+str(round(cum_error_Frob,5)))\n",
    "print('Error (2-Wasserstein_Covariance Part) Made When Predicting Means:'+str(round(cum_error_Frob,5)))"
   ]
  },
  {
   "cell_type": "code",
   "execution_count": null,
   "metadata": {},
   "outputs": [],
   "source": []
  }
 ],
 "metadata": {
  "kernelspec": {
   "display_name": "Python 3",
   "language": "python",
   "name": "python3"
  },
  "language_info": {
   "codemirror_mode": {
    "name": "ipython",
    "version": 3
   },
   "file_extension": ".py",
   "mimetype": "text/x-python",
   "name": "python",
   "nbconvert_exporter": "python",
   "pygments_lexer": "ipython3",
   "version": "3.9.13"
  }
 },
 "nbformat": 4,
 "nbformat_minor": 4
}
